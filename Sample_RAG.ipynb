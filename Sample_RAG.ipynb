{
 "cells": [
  {
   "cell_type": "code",
   "execution_count": null,
   "metadata": {},
   "outputs": [
    {
     "data": {
      "text/plain": [
       "[Document(metadata={'source': 'sample.txt'}, page_content='Introduction to Data Science\\nData Science is an interdisciplinary field that uses scientific methods, processes, algorithms, and systems to extract insights and knowledge from structured and unstructured data. Data science is closely related to the fields of data mining, machine learning, and big data. The key components of data science include data collection, data cleaning, data analysis, and data visualization.\\n\\nData scientists use various tools such as Python, R, SQL, and cloud platforms to process large datasets and build models that help in decision-making. Popular libraries in Python used for data science include Pandas, NumPy, Scikit-learn, and TensorFlow.\\n\\nKey Concepts in Machine Learning\\nMachine learning is a subset of artificial intelligence (AI) that enables systems to learn and improve from experience without being explicitly programmed. There are three main types of machine learning:\\n\\nSupervised Learning: In this type, the model is trained using labeled data. The goal is to map input to output based on the example input-output pairs.\\n\\nExample algorithms: Linear Regression, Decision Trees, Support Vector Machines (SVM).\\nUnsupervised Learning: In this type, the model is used to find hidden patterns or intrinsic structures in data that is not labeled.\\n\\nExample algorithms: K-means Clustering, Hierarchical Clustering, Principal Component Analysis (PCA).\\nReinforcement Learning: Here, an agent learns to make decisions by taking actions in an environment to maximize some notion of cumulative reward.\\n\\nExample algorithms: Q-Learning, Deep Q Networks (DQN).\\nIntroduction to Large Language Models (LLMs)\\nLarge Language Models (LLMs) like GPT-3, GPT-4, and LLaMA are advanced models trained on massive amounts of text data to generate human-like text based on input prompts. These models use transformer architecture and can perform various tasks, including question-answering, text generation, translation, summarization, and more.\\n\\nThe key advantage of LLMs is their ability to handle diverse tasks without needing task-specific training. They are pre-trained on vast corpora of text data and can be fine-tuned or used with techniques like Retrieval-Augmented Generation (RAG) to make their output more accurate and contextually relevant.\\n\\nVector Databases for Retrieval\\nIn the context of RAG, vector databases are used to store text as embeddings (vector representations). When a query is submitted, the system retrieves the most relevant embeddings based on similarity to the query, allowing the model to respond with the most pertinent information. Tools like FAISS, Pinecone, or Databricks Vector Search can be used for indexing and querying embeddings in a scalable manner.')]"
      ]
     },
     "execution_count": 2,
     "metadata": {},
     "output_type": "execute_result"
    }
   ],
   "source": [
    "# Import necessary libraries for loading text document\n",
    "from langchain_community.document_loaders import TextLoader\n",
    "\n",
    "# Load a text file\n",
    "loader = TextLoader(\"sample.txt\")\n",
    "text_documents = loader.load()\n",
    "text_documents"
   ]
  },
  {
   "cell_type": "code",
   "execution_count": null,
   "metadata": {},
   "outputs": [],
   "source": [
    "# Import OS and dotenv for handling environment variables\n",
    "import os\n",
    "from dotenv import load_dotenv\n",
    "\n",
    "# Load environment variables from a .env file\n",
    "load_dotenv()\n",
    "\n",
    "# Set the LangChain API key from the environment variables\n",
    "os.environ['LANGCHAIN_API_KEY'] = os.getenv('LANGCHAIN_API_KEY')"
   ]
  },
  {
   "cell_type": "code",
   "execution_count": null,
   "metadata": {},
   "outputs": [
    {
     "data": {
      "text/plain": [
       "[Document(metadata={'source': 'https://www.healthline.com/health/anxiety-alternative-treatments'}, page_content='Limit your caffeine intakeThat morning cup of coffee might help you get out of bed, but having too much can give you the jitters and decrease your ability to handle anxiety well. A 2017 research review suggests some people can experience anxiety from consuming caffeine in amounts as low as 200 milligrams (mg) per day. This is the amount in about 2 cups of coffee. Most of the studies in this review involved people under psychiatric treatment or people with a preexisting anxiety disorder.Avoid alcohol and nicotineSome people use alcohol and nicotine to relieve symptoms of anxiety. This relief is only temporary, however. Alcohol and nicotine can make the symptoms of anxiety worse and more frequent.A 2019 study involving teenagers suggests that the use of alcohol and nicotine was associated with higher instances of mental health conditions. Those who used alcohol and nicotine were in more distress than those who did not.Eat a balanced dietA 2021 study suggests that following eating patterns that align with dietary recommendations and nutrient requirements may help prevent and treat depression and anxiety. The emerging field of nutritional psychiatry explores the relationships among nutrition, stress, mental health, and mental function.To help avoid anxiety, experts suggest the following dietary measures:Eat a well-balanced diet: Fill up with adequate fruits, vegetables, lean meats, and healthy fats.Avoid processed foods: Processed foods often contain minimal nutrition and harmful ingredients.Avoid foods high in sugar: A sugar rush can mimic or trigger a panic attack.Eat regular meals: Regular meals can help reduce low blood sugar, which can produce anxiety symptoms.Avoid sodas: Many sodas contain caffeine and have a high sugar content, both of which can contribute to anxiety.Avoid smoking: Nicotine can raise blood pressure and heart rate and mimic symptoms of anxiety.Drink more water: According to a 2018 study, drinking 6 to 8 large glasses of water or other hydrating liquids daily helps your body perform properly and can relieve stress.Get regular exerciseGetting regular exercise is good for relieving stress. Cardiovascular exercise has been shown to help lower stress levels and anxiety and improve immune system function.The Anxiety and Depression Association of America says even 5 minutes of aerobic exercise can begin to stimulate anti-anxiety effects. A 10-minute brisk walk can provide several hours of relief.Get plenty of sleepOne 2019 study found that sleep can help calm and reset an anxious brain. Try to get at least 6 to 8 hours of quality sleep every night. If you have trouble sleeping, try to support your body’s natural sleep schedule by:going to sleep and waking up at the same time each daytaking only short naps for 15 to 20 minutes in the early afternoon if you need toexposing yourself to bright sunlight in the morningspending more time outside during the day in natural lightavoiding bright screens 1 to 2 hours before bed and making sure you sleep in a darkened, cool roomgetting regular exercisePractice relaxation techniquesResearch shows that relaxation techniques can be a great way to reduce anxiety. Meditation, yoga, and breathing are a few techniques that can help with relaxing. Read on to see what relaxation techniques might work best for you.MeditationMeditation doesn’t change the world around you, but it can change the way you respond to it. Successful meditation can possibly help you better understand the source of your anxiety and overcome it.According to the National Center for Complementary and Integrative Health, studies and clinical trials suggest that meditation can help reduce anxiety and improve sleep. Meditation may even physically change the brain and body. This may help improve many physical and mental health issues.Breathing techniquesBreathing techniques can help you learn to control your breathing and may help prevent you from hyperventilating during an anxiety-producing event. This can help keep you calm.YogaYoga combines breathing techniques, meditation, and stretching through both moving and stationary postures.According to the Anxiety and Depression Association of America, yoga is one of the top 10 alternative practices used to treat a variety of disorders, including anxiety and depression. A 2018 study showed that 12 sessions of Hatha yoga exercise significantly reduced anxiety among study participants. Yoga also helped improve other health conditions, including stress and depression. Researchers recommended further investigation into yoga’s long-term effects.When you practice yoga regularly, you are more likely to experience its relaxing benefits. You can try following along to yoga videos at home or signing up for a yoga class.SupplementsStudies continue to examine the effects of herbal remedies to treat mild to moderate anxiety. While some research shows positive associations between the symptoms of anxiety and the use of certain herbs, there’s no strong evidence that herbal remedies are helpful for anxiety.If you have an anxiety disorder, it is important to use supplements only as additions to your primary treatment, not substitutions.Supplements are regulated by the FDA as food, not as drugs, which have stricter requirements. Any supplement that promises to improve or cure an anxiety disorder is going against FDA regulations.Always check with your doctor before starting any supplements. Some can have dangerous side effects or interact negatively with medications or health conditions. Also, some supplements are not safe during pregnancy.Nutritional supplements and herbs often used to relieve anxiety include:Vitamin B12: This vitamin plays a key role in the nervous system and may help reduce feelings of anxiety and depression.Chamomile: This herbal tea can have a soothing, anti-anxiety effect. A large 2016 clinical trial found that using chamomile long term significantly reduced moderate to severe generalized anxiety symptoms. However, it didn’t significantly lessen relapse.Passionflower: This is a climbing vine native to the southeastern United States that was used as a sedative by Indigenous peoples. It is currently used to promote anxiety relief and sleep. According to the National Center for Complementary and Integrative Health, it hasn’t been studied enough to make conclusions about its effectiveness in reducing anxiety.L-theanine: This is an amino acid naturally found in green and black tea, as well as mushrooms. It is often taken as a supplement to reduce stress and anxiety. One 2019 clinical trial found that 4 weeks of use improved stress-related symptoms, such as anxiety and depression.Omega-3 fatty acids: Omega-3s are necessary for nervous system development. A 2018 research review of 19 studies found that omega-3 polyunsaturated fatty acids significantly helped reduce anxiety symptoms.Essential oilsSome supplements, such as chamomile and valerian, are also available as essential oils that can be diffused and used as aromatics. Some research also shows evidence that lavender oil can be beneficial for anxiety disorders.CBD productsSome evidence supports the use of CBD products to help relieve anxiety symptoms, but there has not been a large amount of research on CBD and anxiety disorders.It’s also important to note that CBD products aren’t regulated by the FDA. If you choose to use CBD to help manage anxiety symptoms, make sure you are choosing a reputable brand. Is CBD legal? The 2018 Farm Bill removed hemp from the legal definition of marijuana in the Controlled Substances Act. This made some hemp-derived CBD products with less than 0.3 percent THC federally legal. However, CBD products containing more than 0.3 percent THC still fall under the legal definition of marijuana, making them federally illegal but legal under some state laws. Be sure to check state laws, especially when traveling. Also, keep in mind that the FDA has not approved nonprescription CBD products, and some products may be inaccurately labeled.TakeawayIt’s always a good idea to talk with a doctor before beginning a new treatment regimen, whether conventional or alternative. This will help minimize potential complications. If your goal is to feel better, incorporating these practices into your anxiety treatment plan may be helpful.')]"
      ]
     },
     "execution_count": 23,
     "metadata": {},
     "output_type": "execute_result"
    }
   ],
   "source": [
    "# Import WebBaseLoader for loading web-based documents\n",
    "from langchain_community.document_loaders import WebBaseLoader\n",
    "import bs4 \n",
    "\n",
    "# Load web documents using WebBaseLoader with specific parsing criteria\n",
    "loader = WebBaseLoader(web_paths=(\"https://www.healthline.com/health/anxiety-alternative-treatments\",),\n",
    "                       bs_kwargs=dict(parse_only = bs4.SoupStrainer(\n",
    "                           class_ = (\"touchevents-false\",\"chartbeat-section\",\"css-1avyp1d\")\n",
    "\n",
    "                       )))\n",
    "web_documents = loader.load()\n",
    "web_documents"
   ]
  },
  {
   "cell_type": "code",
   "execution_count": null,
   "metadata": {},
   "outputs": [],
   "source": [
    "# Import PyPDFLoader to handle PDF documents\n",
    "from langchain_community.document_loaders import PyPDFLoader\n",
    "\n",
    "# Load and parse a PDF file\n",
    "loader=PyPDFLoader(\"Mental-Health.pdf\")\n",
    "pdf_doc = loader.load()"
   ]
  },
  {
   "cell_type": "code",
   "execution_count": 26,
   "metadata": {},
   "outputs": [
    {
     "data": {
      "text/plain": [
       "[Document(metadata={'source': 'Mental-Health.pdf', 'page': 0}, page_content='CMHA Mental Health Week\\nMentalHealthWeek.ca cmha.ca\\nMental health is the state of our psychological and emotional well-being. It encompasses \\nour emotions, feelings of connection, thoughts, and the ability to manage life’s highs  \\nand lows. Throughout our lives, we will all experience periods of positive and negative \\nmental health. \\nUnderstanding Mental Health\\nFACT\\nFACT\\nFACT\\nFACT\\nMental health and mental illness are often used \\ninterchangeably, but it’s important to note that \\nthey are not the same. Mental health is always \\nthere and may be positive or negative. Mental \\nillness and substance use disorders, however, \\naffect a person’s ability to function over a long \\nperiod of time.1  Remember, someone without \\na mental illness could experience poor mental \\nhealth, just as a person living with a mental \\nillness could experience excellent mental health.\\nMental illnesses and substance use disorders \\nare caused by a complex interplay of genetic, \\nbiological, personality and environmental \\nfactors.2 They are characterized by alterations \\nin thinking, mood or behaviour associated with \\nsignificant distress and impaired functioning. \\n1   Ministry of Mental Health and Addictions. (2023, January 10).  \\nThe difference between mental health and mental illness. The Difference \\nBetween Mental Health and Mental Illness | Wellbeing.gov.bc.ca. Retrieved  \\nApril 12, 2023, from https://wellbeing.gov.bc.ca/understandingmentalhealth\\nWith the right support, people with mental \\nillnesses or substance use disorders can \\nand do thrive. Just as we take care of our \\nphysical health, there are many ways we \\ncan help take care of our mental health.\\nMental health is part of every one of us \\nand in all areas of our lives. We bring it with \\nus to our workplaces, schools, our hobbies \\nand recreational activities, and our places \\nof worship – everywhere we go in our \\ncommunities our mental health is with us. \\nEveryone has mental health. \\nEveryone deserves to have the right \\nsupports and resources available to \\nfoster good mental health.\\nOne-third of people in Canada \\nwill experience a mental illness or \\nsubstance use disorder in their lifetime. \\nThe presence or absence of a \\nmental illness is not a predictor  \\nof good mental health.\\n2   Canada, P. H. A. of. (2022, June 3). Government of Canada . Canada.ca. \\nRetrieved April 12, 2023, from https://www.canada.ca/en/public-health/\\nservices/chronic-diseases/mental-illness.html'),\n",
       " Document(metadata={'source': 'Mental-Health.pdf', 'page': 1}, page_content='CMHA Mental Health Week\\nMentalHealthWeek.ca cmha.ca\\n3   Canada, P. H. A. of. (2018, October 1). Government of Canada . Canada.ca. Retrieved  \\nApril 12, 2023, from https://www.canada.ca/en/public-health/services/publications/\\nhealthy-living/physical-activity-tips-adults-18-64-years.html \\nSources   \\nCanada, P. H. A. of. (2018, October 1). Government of Canada . Canada.ca. Retrieved  \\nApril 12, 2023, from https://www.canada.ca/en/public-health/services/publications/\\nhealthy-living/physical-activity-tips-adults-18-64-years.html\\n Canada, P. H. A. of. (2022, June 3). Government of Canada . Canada.ca. Retrieved \\nApril 12, 2023, from https://www.canada.ca/en/public-health/services/chronic-\\ndiseases/mental-illness.html\\nMinistry of Mental Health and Addictions. (2023, January 10). The difference \\nbetween mental health and mental illness . The Difference Between Mental \\nHealth and Mental Illness | Wellbeing.gov.bc.ca. Retrieved April 12, 2023, from \\nhttps://wellbeing.gov.bc.ca/understandingmentalhealth\\nUnderstanding Mental Health\\nWe can look after our mental health by: \\nBuilding and \\nnurturing support \\nnetworks\\nTrying a new \\nhobby or sport\\nIdentifying  \\nand feeling  \\nour emotions\\nPracticing \\nmindfulness\\nMoving  \\nour bodies\\nBeing kind  \\nto ourselves\\nFeeling connected to others and to \\nour community not only provides \\nus with a sense of belonging but \\nensures we have people to lean on \\nwhen we need to. In fact, humans \\nare inherently social beings and \\nwe’re designed to connect. This can \\ntake form with friendships, family \\nmembers, co-workers, neighbours, \\nromantic relationships and more.\\nInviting fun and creativity into our \\nroutines can help minimize stress and \\nreduce anxiety and depression. Make \\ntime for the things that bring you \\nmeaning and joy! Whether it’s knitting, \\nreading, bike riding or baking, there \\nare endless possibilities and activities \\nto get involved in.\\nHaving good mental health \\ndoesn’t mean feeling happy all \\nthe time. It means being able to \\nidentify and experience the wide \\nrange of emotions that all humans \\ngo through and managing them \\nin a way that is respectful to you \\nand others around you.\\nMove your body in a way that \\nfeels good for you. This can \\ninclude walking, dancing, running, \\nswimming, stretching, playing \\nwith your kids or animals. In fact, \\nmoving your body 20 minutes per \\nday has been proven to decrease \\ntension levels and improve anxiety, \\ndepression, dementia, cognition \\nand quality of life. 3\\nWhile we can’t stop our minds from \\nthinking – it’s simply impossible –  \\nwe can change how we talk to \\nourselves. Take a moment and \\nlisten to your inner voice. What’s it \\ntelling you?  Sometimes we don’t \\nrealize the amount of negative \\nself-talk we engage in until we stop \\nand listen. We could all benefit from \\ngrowing our compassionate voice \\nwhich might sound like how we \\nspeak to our loved ones.  \\nRemember: we don’t need to be busy to be productive - \\nrest is also productive for our mental health.\\nMindfulness is purposely bringing \\none’s attention to the present \\nmoment. When our minds are \\ncluttered, it can be difficult to notice \\nyour own feelings and the feelings \\nof others. Practicing mindfulness \\ncan help calm your mind, become \\nmore aware, and create better \\nconnections with yourself and others. \\nTrying mindfulness meditation and \\nsimple breathing exercises can also \\nbring many health benefits, such as \\nreduced stress.')]"
      ]
     },
     "execution_count": 26,
     "metadata": {},
     "output_type": "execute_result"
    }
   ],
   "source": [
    "pdf_doc"
   ]
  },
  {
   "cell_type": "code",
   "execution_count": null,
   "metadata": {},
   "outputs": [
    {
     "data": {
      "text/plain": [
       "[Document(metadata={'source': 'Mental-Health.pdf', 'page': 0}, page_content='CMHA Mental Health Week\\nMentalHealthWeek.ca cmha.ca\\nMental health is the state of our psychological and emotional well-being. It encompasses \\nour emotions, feelings of connection, thoughts, and the ability to manage life’s highs  \\nand lows. Throughout our lives, we will all experience periods of positive and negative \\nmental health. \\nUnderstanding Mental Health\\nFACT\\nFACT\\nFACT\\nFACT\\nMental health and mental illness are often used \\ninterchangeably, but it’s important to note that \\nthey are not the same. Mental health is always \\nthere and may be positive or negative. Mental \\nillness and substance use disorders, however, \\naffect a person’s ability to function over a long \\nperiod of time.1  Remember, someone without \\na mental illness could experience poor mental \\nhealth, just as a person living with a mental \\nillness could experience excellent mental health.\\nMental illnesses and substance use disorders \\nare caused by a complex interplay of genetic, \\nbiological, personality and environmental'),\n",
       " Document(metadata={'source': 'Mental-Health.pdf', 'page': 0}, page_content='illness could experience excellent mental health.\\nMental illnesses and substance use disorders \\nare caused by a complex interplay of genetic, \\nbiological, personality and environmental \\nfactors.2 They are characterized by alterations \\nin thinking, mood or behaviour associated with \\nsignificant distress and impaired functioning. \\n1   Ministry of Mental Health and Addictions. (2023, January 10).  \\nThe difference between mental health and mental illness. The Difference \\nBetween Mental Health and Mental Illness | Wellbeing.gov.bc.ca. Retrieved  \\nApril 12, 2023, from https://wellbeing.gov.bc.ca/understandingmentalhealth\\nWith the right support, people with mental \\nillnesses or substance use disorders can \\nand do thrive. Just as we take care of our \\nphysical health, there are many ways we \\ncan help take care of our mental health.\\nMental health is part of every one of us \\nand in all areas of our lives. We bring it with \\nus to our workplaces, schools, our hobbies'),\n",
       " Document(metadata={'source': 'Mental-Health.pdf', 'page': 0}, page_content='can help take care of our mental health.\\nMental health is part of every one of us \\nand in all areas of our lives. We bring it with \\nus to our workplaces, schools, our hobbies \\nand recreational activities, and our places \\nof worship – everywhere we go in our \\ncommunities our mental health is with us. \\nEveryone has mental health. \\nEveryone deserves to have the right \\nsupports and resources available to \\nfoster good mental health.\\nOne-third of people in Canada \\nwill experience a mental illness or \\nsubstance use disorder in their lifetime. \\nThe presence or absence of a \\nmental illness is not a predictor  \\nof good mental health.\\n2   Canada, P. H. A. of. (2022, June 3). Government of Canada . Canada.ca. \\nRetrieved April 12, 2023, from https://www.canada.ca/en/public-health/\\nservices/chronic-diseases/mental-illness.html'),\n",
       " Document(metadata={'source': 'Mental-Health.pdf', 'page': 1}, page_content='CMHA Mental Health Week\\nMentalHealthWeek.ca cmha.ca\\n3   Canada, P. H. A. of. (2018, October 1). Government of Canada . Canada.ca. Retrieved  \\nApril 12, 2023, from https://www.canada.ca/en/public-health/services/publications/\\nhealthy-living/physical-activity-tips-adults-18-64-years.html \\nSources   \\nCanada, P. H. A. of. (2018, October 1). Government of Canada . Canada.ca. Retrieved  \\nApril 12, 2023, from https://www.canada.ca/en/public-health/services/publications/\\nhealthy-living/physical-activity-tips-adults-18-64-years.html\\n Canada, P. H. A. of. (2022, June 3). Government of Canada . Canada.ca. Retrieved \\nApril 12, 2023, from https://www.canada.ca/en/public-health/services/chronic-\\ndiseases/mental-illness.html\\nMinistry of Mental Health and Addictions. (2023, January 10). The difference \\nbetween mental health and mental illness . The Difference Between Mental \\nHealth and Mental Illness | Wellbeing.gov.bc.ca. Retrieved April 12, 2023, from'),\n",
       " Document(metadata={'source': 'Mental-Health.pdf', 'page': 1}, page_content='between mental health and mental illness . The Difference Between Mental \\nHealth and Mental Illness | Wellbeing.gov.bc.ca. Retrieved April 12, 2023, from \\nhttps://wellbeing.gov.bc.ca/understandingmentalhealth\\nUnderstanding Mental Health\\nWe can look after our mental health by: \\nBuilding and \\nnurturing support \\nnetworks\\nTrying a new \\nhobby or sport\\nIdentifying  \\nand feeling  \\nour emotions\\nPracticing \\nmindfulness\\nMoving  \\nour bodies\\nBeing kind  \\nto ourselves\\nFeeling connected to others and to \\nour community not only provides \\nus with a sense of belonging but \\nensures we have people to lean on \\nwhen we need to. In fact, humans \\nare inherently social beings and \\nwe’re designed to connect. This can \\ntake form with friendships, family \\nmembers, co-workers, neighbours, \\nromantic relationships and more.\\nInviting fun and creativity into our \\nroutines can help minimize stress and \\nreduce anxiety and depression. Make \\ntime for the things that bring you \\nmeaning and joy! Whether it’s knitting,')]"
      ]
     },
     "execution_count": 27,
     "metadata": {},
     "output_type": "execute_result"
    }
   ],
   "source": [
    "# Import RecursiveCharacterTextSplitter to split documents into smaller chunks\n",
    "from langchain_text_splitters import RecursiveCharacterTextSplitter\n",
    "\n",
    "# Split the PDF document into chunks of size 1000 with an overlap of 200\n",
    "text_splitter = RecursiveCharacterTextSplitter(chunk_size = 1000, chunk_overlap = 200)\n",
    "documents = text_splitter.split_documents(pdf_doc)\n",
    "\n",
    "# Display the first 5 document chunks\n",
    "documents[:5]"
   ]
  },
  {
   "cell_type": "code",
   "execution_count": null,
   "metadata": {},
   "outputs": [],
   "source": [
    "# Import embeddings and vector database for semantic search\n",
    "from langchain_community.embeddings import OllamaEmbeddings\n",
    "from langchain_community.vectorstores import Chroma\n",
    "\n",
    "# Create a Chroma vector database from the document chunks\n",
    "db = Chroma.from_documents(documents,OllamaEmbeddings())"
   ]
  },
  {
   "cell_type": "code",
   "execution_count": null,
   "metadata": {},
   "outputs": [
    {
     "data": {
      "text/plain": [
       "[Document(metadata={'page': 8, 'source': 'meditation.pdf'}, page_content='EXPRESSIVE MEDICATION: CREATING AN OUTLET FOR MEDITATING      \\n      Th e last category of meditation, expressive meditation, involves creat-• \\ning an outlet for your creative side, which neuroscientists believe lies \\nin the right cerebral hemisphere.  \\n      Examples are journaling, drawing, or even working with sand, sticks • \\nand small stones, allowing your hands to create whatever they desire \\nwhile you listen to relaxing music and fully concentrate on the task at \\nhand.  \\n      Th e way to journal is to fi  nd some private time to just write down • \\ntruthfully and honestly how you think and feel about whatever topic \\ncomes up.  \\n      Some structure this by writing about the important events of the day • \\nand their associated thoughts and feelings. Others write about a par-\\nticular topic, such as writing daily about all the issues surrounding a \\nchronic illness.  \\n      M a n y  p e o p l e  fi nd that when they write exactly what they think or feel •'),\n",
       " Document(metadata={'page': 0, 'source': 'Mental-Health.pdf'}, page_content='CMHA Mental Health Week\\nMentalHealthWeek.ca cmha.ca\\nMental health is the state of our psychological and emotional well-being. It encompasses \\nour emotions, feelings of connection, thoughts, and the ability to manage life’s highs  \\nand lows. Throughout our lives, we will all experience periods of positive and negative \\nmental health. \\nUnderstanding Mental Health\\nFACT\\nFACT\\nFACT\\nFACT\\nMental health and mental illness are often used \\ninterchangeably, but it’s important to note that \\nthey are not the same. Mental health is always \\nthere and may be positive or negative. Mental \\nillness and substance use disorders, however, \\naffect a person’s ability to function over a long \\nperiod of time.1  Remember, someone without \\na mental illness could experience poor mental \\nhealth, just as a person living with a mental \\nillness could experience excellent mental health.\\nMental illnesses and substance use disorders \\nare caused by a complex interplay of genetic, \\nbiological, personality and environmental'),\n",
       " Document(metadata={'page': 0, 'source': 'meditation.pdf'}, page_content='How to Meditate: A Primer for Beginners    \\n   JOEL M.     EVANS          \\n  key concepts  \\n      Th e main objective of the meditative experience is to shift   the  ■\\nfocus of the mind away from the frenzied thoughts of everyday \\nliving, such as worries about work, family, fi  nances, or simply \\nthe “to-do list” of the day.  \\n      Personal experience with meditation is required in order to  ■\\naccurately and sincerely communicate expected benefi  ts to \\npatients.  \\n      Meditation involves trying to train your thoughts to stay in the  ■\\npresent moment, because in the present moment there is true \\npeace.  \\n      Meditative experiences can be placed into three main catego- ■\\nries: concentrative, expressive and movement.  \\n      Examples of meditation include: painting or drawing, working  ■\\nin the garden, staring at the ocean, playing with your pet, jour-\\nnaling, teaching your child how to play a sport, dancing freely \\nto your favorite music, etc.'),\n",
       " Document(metadata={'page': 3, 'source': 'meditation.pdf'}, page_content='I will discuss concentrative techniques fi rst, because • \\nthey are ones that are most oft en described, taught \\nand practiced.  \\n       Th ey all involve active concentration, consciously • \\nfocusing the mind on something specifi c. Examples \\nof this type of meditation include staring at the \\ndance of a candle fl ame, continuously repeating a \\nword to yourself (such as  peace ,  love  or  God ) or \\nsimply following your breath. Th e goal is to concentrate and try to \\nignore the other thoughts that will unfortunately pop into your head.  \\n      Th e secret is to allow those thoughts to come and to let them go by not • \\nallowing the mind to get caught up in them.        \\n   Tips for Applying the Concentrative Techniques      \\n       Don’t keep thinking of an unpleasant incident, start • \\ngetting worked up, begin feeling angry or hurt all over \\nagain and begin to plan your revenge. Th at is  not  a \\nmeditative experience, but serves as an illustration of')]"
      ]
     },
     "execution_count": 29,
     "metadata": {},
     "output_type": "execute_result"
    }
   ],
   "source": [
    "# Define a query for similarity search\n",
    "query = \"Everyone has mental health\"\n",
    "result = db.similarity_search(query)\n",
    "result"
   ]
  },
  {
   "cell_type": "code",
   "execution_count": null,
   "metadata": {},
   "outputs": [],
   "source": [
    "# Import FAISS vector store for an alternative similarity search method\n",
    "from langchain_community.vectorstores import FAISS\n",
    "\n",
    "# Create a FAISS vector database from the document chunks\n",
    "db_Faiss = FAISS.from_documents(documents,OllamaEmbeddings())"
   ]
  },
  {
   "cell_type": "code",
   "execution_count": null,
   "metadata": {},
   "outputs": [
    {
     "data": {
      "text/plain": [
       "'CMHA Mental Health Week\\nMentalHealthWeek.ca cmha.ca\\nMental health is the state of our psychological and emotional well-being. It encompasses \\nour emotions, feelings of connection, thoughts, and the ability to manage life’s highs  \\nand lows. Throughout our lives, we will all experience periods of positive and negative \\nmental health. \\nUnderstanding Mental Health\\nFACT\\nFACT\\nFACT\\nFACT\\nMental health and mental illness are often used \\ninterchangeably, but it’s important to note that \\nthey are not the same. Mental health is always \\nthere and may be positive or negative. Mental \\nillness and substance use disorders, however, \\naffect a person’s ability to function over a long \\nperiod of time.1  Remember, someone without \\na mental illness could experience poor mental \\nhealth, just as a person living with a mental \\nillness could experience excellent mental health.\\nMental illnesses and substance use disorders \\nare caused by a complex interplay of genetic, \\nbiological, personality and environmental'"
      ]
     },
     "execution_count": 31,
     "metadata": {},
     "output_type": "execute_result"
    }
   ],
   "source": [
    "# Similarity search using FAISS\n",
    "result = db_Faiss.similarity_search(query)\n",
    "\n",
    "# Retrieve and display the content of the most relevant document\n",
    "result[0].page_content"
   ]
  },
  {
   "cell_type": "code",
   "execution_count": null,
   "metadata": {},
   "outputs": [],
   "source": [
    "# Import the Ollama language model and load LLaMA 2 model\n",
    "from langchain_community.llms import Ollama\n",
    "llm = Ollama(model = \"llama2\")\n",
    "\n",
    "# Import and define the chatbot prompt template\n",
    "from langchain.prompts import ChatPromptTemplate\n",
    "prompt = ChatPromptTemplate.from_template(\"\"\" You are a chatbot. Answer the following question based on the context provided. Just keep the reply straight forward (short and crisp).\n",
    "                            context: {context}.\n",
    "                            question: {input}                          \n",
    "                            \"\"\")"
   ]
  },
  {
   "cell_type": "code",
   "execution_count": null,
   "metadata": {},
   "outputs": [],
   "source": [
    "# Import and create a document processing chain\n",
    "from langchain.chains.combine_documents import create_stuff_documents_chain\n",
    "document_chain = create_stuff_documents_chain(llm,prompt)"
   ]
  },
  {
   "cell_type": "code",
   "execution_count": null,
   "metadata": {},
   "outputs": [
    {
     "data": {
      "text/plain": [
       "VectorStoreRetriever(tags=['Chroma', 'OllamaEmbeddings'], vectorstore=<langchain_community.vectorstores.chroma.Chroma object at 0x7faf4baa6f10>, search_kwargs={})"
      ]
     },
     "execution_count": 35,
     "metadata": {},
     "output_type": "execute_result"
    }
   ],
   "source": [
    "# Using Retrieval Interface to fetch relevant documents\n",
    "retriever = db.as_retriever()\n",
    "retriever"
   ]
  },
  {
   "cell_type": "code",
   "execution_count": null,
   "metadata": {},
   "outputs": [],
   "source": [
    "# Import and create a retrieval chain for answering questions based on the documents\n",
    "from langchain.chains import create_retrieval_chain\n",
    "retrival_chain = create_retrieval_chain(retriever,document_chain)"
   ]
  },
  {
   "cell_type": "code",
   "execution_count": null,
   "metadata": {},
   "outputs": [
    {
     "data": {
      "text/plain": [
       "\"To look after our mental health, it's important to prioritize self-care and make meditation a regular practice. Meditation can help shift the focus of the mind away from daily worries and train us to stay present in the moment. There are many ways to meditate, such as focusing on the breath, and it can be done anywhere without any special supplies. By making meditation a part of our daily routine, we can foster good mental health and well-being.\""
      ]
     },
     "execution_count": 37,
     "metadata": {},
     "output_type": "execute_result"
    }
   ],
   "source": [
    "# Invoke the retrieval chain with a question\n",
    "response = retrival_chain.invoke({'input':'how can we look after our mental health?'})\n",
    "response['answer']"
   ]
  }
 ],
 "metadata": {
  "kernelspec": {
   "display_name": "base",
   "language": "python",
   "name": "python3"
  },
  "language_info": {
   "codemirror_mode": {
    "name": "ipython",
    "version": 3
   },
   "file_extension": ".py",
   "mimetype": "text/x-python",
   "name": "python",
   "nbconvert_exporter": "python",
   "pygments_lexer": "ipython3",
   "version": "3.9.7"
  }
 },
 "nbformat": 4,
 "nbformat_minor": 2
}
